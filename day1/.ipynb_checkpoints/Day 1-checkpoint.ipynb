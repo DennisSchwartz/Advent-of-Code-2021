{
 "cells": [
  {
   "cell_type": "code",
   "execution_count": 1,
   "id": "05d3e5eb",
   "metadata": {},
   "outputs": [],
   "source": [
    "depth_vals = []"
   ]
  },
  {
   "cell_type": "code",
   "execution_count": 2,
   "id": "93fec266",
   "metadata": {},
   "outputs": [],
   "source": [
    "with open('day_1_input.txt', 'r') as f:\n",
    "    depth_vals = [int(l.strip()) for l in f]"
   ]
  },
  {
   "cell_type": "code",
   "execution_count": 11,
   "id": "4fd75042",
   "metadata": {},
   "outputs": [],
   "source": [
    "example = [199, 200, 208, 210, 200, 207, 240, 269, 260, 263]"
   ]
  },
  {
   "cell_type": "code",
   "execution_count": 12,
   "id": "dcbe6781",
   "metadata": {},
   "outputs": [],
   "source": [
    "def count_inc(vals):\n",
    "    prev = vals[0]\n",
    "    res = 0\n",
    "    for d in vals:\n",
    "        if prev < d:\n",
    "            res += 1\n",
    "        prev = d\n",
    "    return res"
   ]
  },
  {
   "cell_type": "code",
   "execution_count": 13,
   "id": "9f0134c9",
   "metadata": {},
   "outputs": [
    {
     "data": {
      "text/plain": [
       "137"
      ]
     },
     "execution_count": 13,
     "metadata": {},
     "output_type": "execute_result"
    }
   ],
   "source": [
    "depth_vals[0]"
   ]
  },
  {
   "cell_type": "code",
   "execution_count": 14,
   "id": "04629cf7",
   "metadata": {},
   "outputs": [
    {
     "data": {
      "text/plain": [
       "1711"
      ]
     },
     "execution_count": 14,
     "metadata": {},
     "output_type": "execute_result"
    }
   ],
   "source": [
    "count_inc(depth_vals)"
   ]
  },
  {
   "cell_type": "code",
   "execution_count": 19,
   "id": "f935debd",
   "metadata": {},
   "outputs": [],
   "source": [
    "def count_window(vals):\n",
    "    res = 0\n",
    "    for i in range(len(vals) - 3):\n",
    "        a = sum(vals[i:i+3])\n",
    "        b = sum(vals[i+1:i+4])\n",
    "        if b > a:\n",
    "            res += 1\n",
    "    return res"
   ]
  },
  {
   "cell_type": "code",
   "execution_count": 20,
   "id": "9299b7ac",
   "metadata": {},
   "outputs": [
    {
     "data": {
      "text/plain": [
       "5"
      ]
     },
     "execution_count": 20,
     "metadata": {},
     "output_type": "execute_result"
    }
   ],
   "source": [
    "count_window(example)"
   ]
  },
  {
   "cell_type": "code",
   "execution_count": 21,
   "id": "adb50a7e",
   "metadata": {},
   "outputs": [
    {
     "data": {
      "text/plain": [
       "1743"
      ]
     },
     "execution_count": 21,
     "metadata": {},
     "output_type": "execute_result"
    }
   ],
   "source": [
    "count_window(depth_vals)"
   ]
  },
  {
   "cell_type": "code",
   "execution_count": null,
   "id": "87b3e098",
   "metadata": {},
   "outputs": [],
   "source": []
  }
 ],
 "metadata": {
  "kernelspec": {
   "display_name": "Python 3 (ipykernel)",
   "language": "python",
   "name": "python3"
  },
  "language_info": {
   "codemirror_mode": {
    "name": "ipython",
    "version": 3
   },
   "file_extension": ".py",
   "mimetype": "text/x-python",
   "name": "python",
   "nbconvert_exporter": "python",
   "pygments_lexer": "ipython3",
   "version": "3.10.1"
  }
 },
 "nbformat": 4,
 "nbformat_minor": 5
}
